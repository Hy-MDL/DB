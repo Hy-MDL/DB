{
 "cells": [
  {
   "cell_type": "code",
   "execution_count": 55,
   "id": "9c4aba09",
   "metadata": {},
   "outputs": [],
   "source": [
    "import matplotlib.pyplot as plt\n",
    "import numpy as np\n",
    "import pandas as pd\n",
    "import seaborn as sns"
   ]
  },
  {
   "cell_type": "code",
   "execution_count": 57,
   "id": "24823a67",
   "metadata": {},
   "outputs": [
    {
     "data": {
      "text/html": [
       "<div>\n",
       "<style scoped>\n",
       "    .dataframe tbody tr th:only-of-type {\n",
       "        vertical-align: middle;\n",
       "    }\n",
       "\n",
       "    .dataframe tbody tr th {\n",
       "        vertical-align: top;\n",
       "    }\n",
       "\n",
       "    .dataframe thead th {\n",
       "        text-align: right;\n",
       "    }\n",
       "</style>\n",
       "<table border=\"1\" class=\"dataframe\">\n",
       "  <thead>\n",
       "    <tr style=\"text-align: right;\">\n",
       "      <th></th>\n",
       "      <th>115507</th>\n",
       "    </tr>\n",
       "  </thead>\n",
       "  <tbody>\n",
       "    <tr>\n",
       "      <th>0</th>\n",
       "      <td>109013</td>\n",
       "    </tr>\n",
       "    <tr>\n",
       "      <th>1</th>\n",
       "      <td>104465</td>\n",
       "    </tr>\n",
       "    <tr>\n",
       "      <th>2</th>\n",
       "      <td>101764</td>\n",
       "    </tr>\n",
       "    <tr>\n",
       "      <th>3</th>\n",
       "      <td>99640</td>\n",
       "    </tr>\n",
       "    <tr>\n",
       "      <th>4</th>\n",
       "      <td>90500</td>\n",
       "    </tr>\n",
       "    <tr>\n",
       "      <th>...</th>\n",
       "      <td>...</td>\n",
       "    </tr>\n",
       "    <tr>\n",
       "      <th>11395</th>\n",
       "      <td>6</td>\n",
       "    </tr>\n",
       "    <tr>\n",
       "      <th>11396</th>\n",
       "      <td>5</td>\n",
       "    </tr>\n",
       "    <tr>\n",
       "      <th>11397</th>\n",
       "      <td>4</td>\n",
       "    </tr>\n",
       "    <tr>\n",
       "      <th>11398</th>\n",
       "      <td>2</td>\n",
       "    </tr>\n",
       "    <tr>\n",
       "      <th>11399</th>\n",
       "      <td>1</td>\n",
       "    </tr>\n",
       "  </tbody>\n",
       "</table>\n",
       "<p>11400 rows × 1 columns</p>\n",
       "</div>"
      ],
      "text/plain": [
       "       115507\n",
       "0      109013\n",
       "1      104465\n",
       "2      101764\n",
       "3       99640\n",
       "4       90500\n",
       "...       ...\n",
       "11395       6\n",
       "11396       5\n",
       "11397       4\n",
       "11398       2\n",
       "11399       1\n",
       "\n",
       "[11400 rows x 1 columns]"
      ]
     },
     "execution_count": 57,
     "metadata": {},
     "output_type": "execute_result"
    }
   ],
   "source": [
    "df=pd.read_csv('C:\\\\Users\\\\82102\\\\Desktop\\\\Test\\\\income\\\\평균처분가능소득.csv')\n",
    "df"
   ]
  },
  {
   "cell_type": "code",
   "execution_count": 72,
   "id": "32123c04",
   "metadata": {},
   "outputs": [],
   "source": [
    "df1=df[0:109]"
   ]
  },
  {
   "cell_type": "code",
   "execution_count": 73,
   "id": "0fd5ec79",
   "metadata": {},
   "outputs": [],
   "source": [
    "df2=df[109:582]"
   ]
  },
  {
   "cell_type": "code",
   "execution_count": 74,
   "id": "cce0ec4c",
   "metadata": {},
   "outputs": [],
   "source": [
    "df3=df[582:1714]"
   ]
  },
  {
   "cell_type": "code",
   "execution_count": 75,
   "id": "05a2cefa",
   "metadata": {},
   "outputs": [],
   "source": [
    "df4=df[1714:6000]"
   ]
  },
  {
   "cell_type": "code",
   "execution_count": 80,
   "id": "50f73487",
   "metadata": {},
   "outputs": [],
   "source": [
    "hist, edges = np.histogram(df1, 100)"
   ]
  },
  {
   "cell_type": "code",
   "execution_count": 81,
   "id": "d8bf7f2b",
   "metadata": {
    "scrolled": true
   },
   "outputs": [
    {
     "data": {
      "text/plain": [
       "array([ 10135.  ,  11123.78,  12112.56,  13101.34,  14090.12,  15078.9 ,\n",
       "        16067.68,  17056.46,  18045.24,  19034.02,  20022.8 ,  21011.58,\n",
       "        22000.36,  22989.14,  23977.92,  24966.7 ,  25955.48,  26944.26,\n",
       "        27933.04,  28921.82,  29910.6 ,  30899.38,  31888.16,  32876.94,\n",
       "        33865.72,  34854.5 ,  35843.28,  36832.06,  37820.84,  38809.62,\n",
       "        39798.4 ,  40787.18,  41775.96,  42764.74,  43753.52,  44742.3 ,\n",
       "        45731.08,  46719.86,  47708.64,  48697.42,  49686.2 ,  50674.98,\n",
       "        51663.76,  52652.54,  53641.32,  54630.1 ,  55618.88,  56607.66,\n",
       "        57596.44,  58585.22,  59574.  ,  60562.78,  61551.56,  62540.34,\n",
       "        63529.12,  64517.9 ,  65506.68,  66495.46,  67484.24,  68473.02,\n",
       "        69461.8 ,  70450.58,  71439.36,  72428.14,  73416.92,  74405.7 ,\n",
       "        75394.48,  76383.26,  77372.04,  78360.82,  79349.6 ,  80338.38,\n",
       "        81327.16,  82315.94,  83304.72,  84293.5 ,  85282.28,  86271.06,\n",
       "        87259.84,  88248.62,  89237.4 ,  90226.18,  91214.96,  92203.74,\n",
       "        93192.52,  94181.3 ,  95170.08,  96158.86,  97147.64,  98136.42,\n",
       "        99125.2 , 100113.98, 101102.76, 102091.54, 103080.32, 104069.1 ,\n",
       "       105057.88, 106046.66, 107035.44, 108024.22, 109013.  ])"
      ]
     },
     "execution_count": 81,
     "metadata": {},
     "output_type": "execute_result"
    }
   ],
   "source": [
    "edges"
   ]
  },
  {
   "cell_type": "code",
   "execution_count": 83,
   "id": "fe928074",
   "metadata": {},
   "outputs": [
    {
     "data": {
      "text/plain": [
       "<AxesSubplot:>"
      ]
     },
     "execution_count": 83,
     "metadata": {},
     "output_type": "execute_result"
    },
    {
     "data": {
      "image/png": "[encoded data removed]",
      "text/plain": [
       "<Figure size 640x480 with 1 Axes>"
      ]
     },
     "metadata": {},
     "output_type": "display_data"
    }
   ],
   "source": [
    "sns.distplot(df1, bins=100, kde=False)"
   ]
  },
  {
   "cell_type": "code",
   "execution_count": 84,
   "id": "ec225ff2",
   "metadata": {},
   "outputs": [
    {
     "data": {
      "text/plain": [
       "<AxesSubplot:>"
      ]
     },
     "execution_count": 84,
     "metadata": {},
     "output_type": "execute_result"
    },
    {
     "data": {
      "image/png": "[encoded data removed]",
      "text/plain": [
       "<Figure size 640x480 with 1 Axes>"
      ]
     },
     "metadata": {},
     "output_type": "display_data"
    }
   ],
   "source": [
    "hist, edges = np.histogram(df2, 100)\n",
    "sns.distplot(df2, bins=100, kde=False)"
   ]
  },
  {
   "cell_type": "code",
   "execution_count": 85,
   "id": "3a519da9",
   "metadata": {},
   "outputs": [
    {
     "data": {
      "text/plain": [
       "<AxesSubplot:>"
      ]
     },
     "execution_count": 85,
     "metadata": {},
     "output_type": "execute_result"
    },
    {
     "data": {
      "image/png": "[encoded data removed]",
      "text/plain": [
       "<Figure size 640x480 with 1 Axes>"
      ]
     },
     "metadata": {},
     "output_type": "display_data"
    }
   ],
   "source": [
    "hist, edges = np.histogram(df3, 100)\n",
    "sns.distplot(df3, bins=100, kde=False)"
   ]
  },
  {
   "cell_type": "code",
   "execution_count": 87,
   "id": "670a293c",
   "metadata": {},
   "outputs": [
    {
     "data": {
      "text/plain": [
       "<AxesSubplot:>"
      ]
     },
     "execution_count": 87,
     "metadata": {},
     "output_type": "execute_result"
    },
    {
     "data": {
      "image/png": "[encoded data removed]",
      "text/plain": [
       "<Figure size 640x480 with 1 Axes>"
      ]
     },
     "metadata": {},
     "output_type": "display_data"
    }
   ],
   "source": [
    "df5=df[147:1500]\n",
    "hist, edges = np.histogram(df5, 100)\n",
    "sns.distplot(df5, bins=100, kde=False)"
   ]
  },
  {
   "cell_type": "code",
   "execution_count": 88,
   "id": "48d41bdc",
   "metadata": {},
   "outputs": [
    {
     "data": {
      "text/plain": [
       "<AxesSubplot:>"
      ]
     },
     "execution_count": 88,
     "metadata": {},
     "output_type": "execute_result"
    },
    {
     "data": {
      "image/png": "[encoded data removed]",
      "text/plain": [
       "<Figure size 640x480 with 1 Axes>"
      ]
     },
     "metadata": {},
     "output_type": "display_data"
    }
   ],
   "source": [
    "hist, edges = np.histogram(df4, 100)\n",
    "sns.distplot(df4, bins=100, kde=False)"
   ]
  },
  {
   "cell_type": "code",
   "execution_count": 92,
   "id": "f41f56d3",
   "metadata": {},
   "outputs": [
    {
     "data": {
      "text/plain": [
       "<AxesSubplot:>"
      ]
     },
     "execution_count": 92,
     "metadata": {},
     "output_type": "execute_result"
    },
    {
     "data": {
      "image/png": "[encoded data removed]",
      "text/plain": [
       "<Figure size 640x480 with 1 Axes>"
      ]
     },
     "metadata": {},
     "output_type": "display_data"
    }
   ],
   "source": [
    "df6=df[109:]\n",
    "hist, edges = np.histogram(df6, 1000)\n",
    "sns.distplot(df6, bins=1000, kde=False)"
   ]
  },
  {
   "cell_type": "code",
   "execution_count": null,
   "id": "fc10aa89",
   "metadata": {},
   "outputs": [],
   "source": []
  }
 ],
 "metadata": {
  "kernelspec": {
   "display_name": "Python 3 (ipykernel)",
   "language": "python",
   "name": "python3"
  },
  "language_info": {
   "codemirror_mode": {
    "name": "ipython",
    "version": 3
   },
   "file_extension": ".py",
   "mimetype": "text/x-python",
   "name": "python",
   "nbconvert_exporter": "python",
   "pygments_lexer": "ipython3",
   "version": "3.9.13"
  }
 },
 "nbformat": 4,
 "nbformat_minor": 5
}
