{
 "cells": [
  {
   "cell_type": "code",
   "execution_count": 31,
   "metadata": {},
   "outputs": [
    {
     "name": "stderr",
     "output_type": "stream",
     "text": [
      "100%|██████████| 4401/4401 [00:08<00:00, 502.94it/s]\n",
      "100%|██████████| 3226/3226 [00:10<00:00, 308.23it/s]\n"
     ]
    }
   ],
   "source": [
    "import pandas as pd\n",
    "import FinanceDataReader as fdr\n",
    "df_krx = fdr.StockListing('KRX')\n",
    "df_SP = fdr.StockListing('SP500')\n",
    "df_NAQ = fdr.StockListing('NASDAQ')\n",
    "df_NY = fdr.StockListing('NYSE')"
   ]
  },
  {
   "cell_type": "code",
   "execution_count": 55,
   "metadata": {},
   "outputs": [],
   "source": [
    "df_Krx=df_krx['Code'].to_frame()"
   ]
  },
  {
   "cell_type": "code",
   "execution_count": 118,
   "metadata": {},
   "outputs": [],
   "source": [
    "import pandas as pd\n",
    "def make_code(x):\n",
    "    x = str(x)\n",
    "    return '0'*(6-len(x)) + x\n",
    "\n",
    "KR = pd.read_html('http://kind.krx.co.kr/corpgeneral/corpList.do?method=download',header=0)[0]\n",
    "KR['종목코드'] = KR['종목코드'].apply(make_code)\n",
    "KR_list = KR[KR['상장일'] < '2005-01-01']['종목코드'].to_frame()\n",
    "KR_list.columns = ['Code']\n",
    "\n"
   ]
  },
  {
   "cell_type": "code",
   "execution_count": 119,
   "metadata": {},
   "outputs": [],
   "source": [
    "df_Krx=pd.concat([KR_list,df_Krx])"
   ]
  },
  {
   "cell_type": "code",
   "execution_count": 120,
   "metadata": {},
   "outputs": [],
   "source": [
    "df_krx=df_Krx[df_Krx.duplicated()]"
   ]
  },
  {
   "cell_type": "code",
   "execution_count": 121,
   "metadata": {},
   "outputs": [],
   "source": [
    "df_Sp = df_SP['Symbol'].to_frame()\n",
    "df_Sp.columns = ['Code']\n",
    "df_Naq = df_NAQ['Symbol'].to_frame()\n",
    "df_Naq.columns = ['Code']\n",
    "df_Ny = df_NY['Symbol'].to_frame()\n",
    "df_Ny.columns = ['Code']"
   ]
  },
  {
   "cell_type": "code",
   "execution_count": 122,
   "metadata": {},
   "outputs": [
    {
     "data": {
      "text/html": [
       "<div>\n",
       "<style scoped>\n",
       "    .dataframe tbody tr th:only-of-type {\n",
       "        vertical-align: middle;\n",
       "    }\n",
       "\n",
       "    .dataframe tbody tr th {\n",
       "        vertical-align: top;\n",
       "    }\n",
       "\n",
       "    .dataframe thead th {\n",
       "        text-align: right;\n",
       "    }\n",
       "</style>\n",
       "<table border=\"1\" class=\"dataframe\">\n",
       "  <thead>\n",
       "    <tr style=\"text-align: right;\">\n",
       "      <th></th>\n",
       "      <th>Code</th>\n",
       "    </tr>\n",
       "  </thead>\n",
       "  <tbody>\n",
       "    <tr>\n",
       "      <th>0</th>\n",
       "      <td>XOM</td>\n",
       "    </tr>\n",
       "    <tr>\n",
       "      <th>1</th>\n",
       "      <td>TSM</td>\n",
       "    </tr>\n",
       "    <tr>\n",
       "      <th>2</th>\n",
       "      <td>V</td>\n",
       "    </tr>\n",
       "    <tr>\n",
       "      <th>3</th>\n",
       "      <td>UNH</td>\n",
       "    </tr>\n",
       "    <tr>\n",
       "      <th>4</th>\n",
       "      <td>JPM</td>\n",
       "    </tr>\n",
       "    <tr>\n",
       "      <th>...</th>\n",
       "      <td>...</td>\n",
       "    </tr>\n",
       "    <tr>\n",
       "      <th>3221</th>\n",
       "      <td>BAM WI</td>\n",
       "    </tr>\n",
       "    <tr>\n",
       "      <th>3222</th>\n",
       "      <td>MBC WI</td>\n",
       "    </tr>\n",
       "    <tr>\n",
       "      <th>3223</th>\n",
       "      <td>RSF RT WI</td>\n",
       "    </tr>\n",
       "    <tr>\n",
       "      <th>3224</th>\n",
       "      <td>VTS WI</td>\n",
       "    </tr>\n",
       "    <tr>\n",
       "      <th>3225</th>\n",
       "      <td>KIO RT WI</td>\n",
       "    </tr>\n",
       "  </tbody>\n",
       "</table>\n",
       "<p>3226 rows × 1 columns</p>\n",
       "</div>"
      ],
      "text/plain": [
       "           Code\n",
       "0           XOM\n",
       "1           TSM\n",
       "2             V\n",
       "3           UNH\n",
       "4           JPM\n",
       "...         ...\n",
       "3221     BAM WI\n",
       "3222     MBC WI\n",
       "3223  RSF RT WI\n",
       "3224     VTS WI\n",
       "3225  KIO RT WI\n",
       "\n",
       "[3226 rows x 1 columns]"
      ]
     },
     "execution_count": 122,
     "metadata": {},
     "output_type": "execute_result"
    }
   ],
   "source": [
    "df_Ny"
   ]
  },
  {
   "cell_type": "code",
   "execution_count": 123,
   "metadata": {},
   "outputs": [],
   "source": [
    "Kr=df_Krx\n",
    "AM=pd.concat([df_Sp,df_Ny,df_Naq])\n",
    "list_kr = Kr['Code']\n",
    "list_AM = AM['Code']"
   ]
  },
  {
   "cell_type": "code",
   "execution_count": 124,
   "metadata": {},
   "outputs": [
    {
     "name": "stderr",
     "output_type": "stream",
     "text": [
      "100%|██████████| 5034/5034 [12:22<00:00,  6.78it/s]\n"
     ]
    }
   ],
   "source": [
    "from tqdm import tqdm\n",
    "import time\n",
    "start_time = time.time()\n",
    "\n",
    "merge_stock_list_KR =[]\n",
    "for code in tqdm(list_kr):\n",
    "    stock_list = fdr.DataReader(code, '2017').reset_index().values.tolist() \n",
    "    \n",
    "    for row in stock_list: \n",
    "        row.append(code)                 \n",
    "        merge_stock_list_KR.append(row)   \n",
    "        "
   ]
  },
  {
   "cell_type": "code",
   "execution_count": 127,
   "metadata": {},
   "outputs": [
    {
     "data": {
      "text/plain": [
       "[Timestamp('2017-01-03 00:00:00'),\n",
       " 11581,\n",
       " 11867,\n",
       " 11152,\n",
       " 11439,\n",
       " 41287,\n",
       " -0.016423043852106578,\n",
       " '004840']"
      ]
     },
     "execution_count": 127,
     "metadata": {},
     "output_type": "execute_result"
    }
   ],
   "source": [
    "merge_stock_list_KR[1]"
   ]
  },
  {
   "cell_type": "code",
   "execution_count": null,
   "metadata": {},
   "outputs": [],
   "source": []
  }
 ],
 "metadata": {
  "kernelspec": {
   "display_name": "Python 3",
   "language": "python",
   "name": "python3"
  },
  "language_info": {
   "codemirror_mode": {
    "name": "ipython",
    "version": 3
   },
   "file_extension": ".py",
   "mimetype": "text/x-python",
   "name": "python",
   "nbconvert_exporter": "python",
   "pygments_lexer": "ipython3",
   "version": "3.11.2"
  },
  "orig_nbformat": 4,
  "vscode": {
   "interpreter": {
    "hash": "f5a5dc7eaf6385803b22ee4c0eae49f795df80ca0ed2632526c2d48e4adae873"
   }
  }
 },
 "nbformat": 4,
 "nbformat_minor": 2
}
