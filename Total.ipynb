{
 "cells": [
  {
   "cell_type": "code",
   "execution_count": 460,
   "metadata": {},
   "outputs": [],
   "source": [
    "import pandas as pd\n",
    "import FinanceDataReader as fdr\n",
    "df_kos = fdr.StockListing('KOSPI')\n",
    "df_ksq = fdr.StockListing('KOSDAQ')\n",
    "df_etf_kr = fdr.StockListing('ETF/KR')\n",
    "df_SP = fdr.StockListing('SP500')"
   ]
  },
  {
   "cell_type": "code",
   "execution_count": 461,
   "metadata": {},
   "outputs": [],
   "source": [
    "df_kos=df_kos[0:400]\n",
    "df_etf_kr=df_etf_kr[0:100]\n",
    "df_ksq=df_ksq[0:100]\n",
    "df_kr= pd.concat([df_kos,df_ksq])"
   ]
  },
  {
   "cell_type": "code",
   "execution_count": 462,
   "metadata": {},
   "outputs": [],
   "source": [
    "df_kr=df_kr['Code'].to_frame()\n"
   ]
  },
  {
   "cell_type": "code",
   "execution_count": 463,
   "metadata": {},
   "outputs": [],
   "source": [
    "import pandas as pd\n",
    "def make_code(x):\n",
    "    x = str(x)\n",
    "    return '0'*(6-len(x)) + x\n",
    "\n",
    "KR = pd.read_html('http://kind.krx.co.kr/corpgeneral/corpList.do?method=download',header=0)[0]\n",
    "KR['Code'] = KR['종목코드'].apply(make_code)\n",
    "KR_list_1 = KR[KR['상장일'] < '2000-01-01']['Code'].to_frame()\n",
    "KR_list_2 = KR[(KR['상장일'] >= '2000-01-01') & (KR['상장일'] < '2007-01-01')]['Code'].to_frame()\n",
    "KR_list_3 = KR[(KR['상장일'] >= '2007-01-01') & (KR['상장일'] < '2015-06-15')]['Code'].to_frame()\n",
    "KR_list_4 = KR[KR['상장일'] >= '2015-06-15']['Code'].to_frame()\n"
   ]
  },
  {
   "cell_type": "code",
   "execution_count": 464,
   "metadata": {},
   "outputs": [],
   "source": [
    "df_kr_1 = pd.concat([df_kr,KR_list_1])\n",
    "df_kr_2 = pd.concat([df_kr,KR_list_2])\n",
    "df_kr_3 = pd.concat([df_kr,KR_list_3])\n",
    "df_kr_4 = pd.concat([df_kr,KR_list_4])\n"
   ]
  },
  {
   "cell_type": "code",
   "execution_count": 465,
   "metadata": {},
   "outputs": [],
   "source": [
    "df_kr1=df_kr_1[df_kr_1.duplicated()]\n",
    "df_kr2=df_kr_2[df_kr_2.duplicated()]\n",
    "df_kr3=df_kr_3[df_kr_3.duplicated()]\n",
    "df_kr4=df_kr_4[df_kr_4.duplicated()]"
   ]
  },
  {
   "cell_type": "code",
   "execution_count": 466,
   "metadata": {},
   "outputs": [],
   "source": [
    "df_SP = df_SP['Symbol'].to_frame()\n",
    "df_SP.columns = ['Code']"
   ]
  },
  {
   "cell_type": "code",
   "execution_count": 467,
   "metadata": {},
   "outputs": [],
   "source": [
    "df_kr0 = pd.concat([df_kr1,df_kr2,df_kr3,df_kr4])"
   ]
  },
  {
   "cell_type": "code",
   "execution_count": 468,
   "metadata": {},
   "outputs": [],
   "source": [
    "list_kr_0 = df_kr0['Code']\n",
    "list_kr_1 = df_kr1['Code']\n",
    "list_kr_2 = df_kr2['Code']\n",
    "list_kr_3 = df_kr3['Code']\n",
    "list_kr_4= df_kr4['Code']\n",
    "list_SP = df_SP['Code'] \n",
    "\n"
   ]
  },
  {
   "cell_type": "code",
   "execution_count": 469,
   "metadata": {},
   "outputs": [],
   "source": [
    "list_kr_0 = list_kr_0.to_frame()\n",
    "list_kr_1 = list_kr_1.to_frame()\n",
    "list_kr_2 = list_kr_2.to_frame()\n",
    "list_kr_3 = list_kr_3.to_frame()\n",
    "list_kr_4 = list_kr_4.to_frame()\n",
    "list_SP = list_SP.to_frame()"
   ]
  },
  {
   "cell_type": "code",
   "execution_count": 470,
   "metadata": {},
   "outputs": [],
   "source": [
    "kr0 =[]\n",
    "kr1 =[]\n",
    "kr2=[]\n",
    "kr3=[]\n",
    "kr4=[]\n",
    "sp=[]"
   ]
  },
  {
   "cell_type": "code",
   "execution_count": 471,
   "metadata": {},
   "outputs": [],
   "source": [
    "from tqdm import tqdm\n",
    "import time\n",
    "for i in range(len(list_kr_0)):\n",
    "    df=pd.DataFrame\n",
    "    kr0.append(df)\n",
    "\n",
    "for i in range(len(list_kr_1)):\n",
    "    df=pd.DataFrame\n",
    "    kr1.append(df)\n",
    "\n",
    "for i in range(len(list_kr_2)):\n",
    "    df=pd.DataFrame\n",
    "    kr2.append(df) \n",
    "\n",
    "for i in range(len(list_kr_3)):\n",
    "    df=pd.DataFrame\n",
    "    kr3.append(df)  \n",
    "\n",
    "for i in range(len(list_kr_4)):\n",
    "    df=pd.DataFrame\n",
    "    kr4.append(df)     \n",
    "for i in range(len(list_SP)):\n",
    "    df=pd.DataFrame\n",
    "    sp.append(df) "
   ]
  },
  {
   "cell_type": "code",
   "execution_count": 474,
   "metadata": {},
   "outputs": [
    {
     "name": "stdout",
     "output_type": "stream",
     "text": [
      "HTTP Error 404: Not Found  - symbol \"BRKB\"not found or invalid periods\n",
      "HTTP Error 404: Not Found  - symbol \"BFB\"not found or invalid periods\n"
     ]
    }
   ],
   "source": [
    "for i in range(len(list_kr_0)):\n",
    "    kr0[i] = fdr.DataReader(list_kr_0.iat[i,0],'1980')\n",
    "    kr0[i]['Code'] =list_kr_0.iat[i,0]\n",
    "\n",
    "for i in range(len(list_kr_1)):\n",
    "    kr1[i] = fdr.DataReader(list_kr_1.iat[i,0],'1980')\n",
    "    kr1[i]['Code'] =list_kr_1.iat[i,0]\n",
    "\n",
    "\n",
    "for i in range(len(list_kr_2)):\n",
    "    kr2[i] = fdr.DataReader(list_kr_2.iat[i,0],'2000')\n",
    "    kr2[i]['Code'] =list_kr_2.iat[i,0]\n",
    "\n",
    "for i in range(len(list_kr_3)):\n",
    "    kr3[i] = fdr.DataReader(list_kr_3.iat[i,0],'2007')\n",
    "    kr3[i]['Code'] =list_kr_3.iat[i,0]\n",
    "    \n",
    "for i in range(len(list_kr_4)):\n",
    "    kr4[i] = fdr.DataReader(list_kr_4.iat[i,0],'2015-6-15')\n",
    "    kr4[i]['Code'] =list_kr_4.iat[i,0]\n",
    "    \n",
    "for i in range(len(list_SP)):\n",
    "    sp[i] = fdr.DataReader(list_SP.iat[i,0],'2000')\n",
    "    sp[i]['Code'] =list_SP.iat[i,0]"
   ]
  },
  {
   "cell_type": "code",
   "execution_count": 490,
   "metadata": {},
   "outputs": [
    {
     "data": {
      "text/plain": [
       "Open         12650\n",
       "High         14300\n",
       "Low          12000\n",
       "Close        12000\n",
       "Volume    11609074\n",
       "Change         NaN\n",
       "Code        383800\n",
       "Name: 2021-05-27 00:00:00, dtype: object"
      ]
     },
     "execution_count": 490,
     "metadata": {},
     "output_type": "execute_result"
    }
   ],
   "source": [
    "kr4[1].loc['2021-05-27',:]"
   ]
  },
  {
   "cell_type": "code",
   "execution_count": null,
   "metadata": {},
   "outputs": [
    {
     "name": "stderr",
     "output_type": "stream",
     "text": [
      "100%|██████████| 187/187 [00:22<00:00,  8.24it/s]\n"
     ]
    }
   ],
   "source": [
    "for code in tqdm(list_kr_1):\n",
    "    stock_list = fdr.DataReader(code, '1980').reset_index().values.tolist() \n",
    "    \n",
    "    for row in stock_list: \n",
    "        row.append(code)                 \n",
    "        merge_stock_list_KR_1.append(row)  "
   ]
  },
  {
   "cell_type": "code",
   "execution_count": null,
   "metadata": {},
   "outputs": [
    {
     "name": "stderr",
     "output_type": "stream",
     "text": [
      "100%|██████████| 71/71 [00:08<00:00,  8.64it/s]\n"
     ]
    }
   ],
   "source": [
    "merge_stock_list_KR_2 =[]\n",
    "for code in tqdm(list_kr_2):\n",
    "    stock_list = fdr.DataReader(code, '2000').reset_index().values.tolist() \n",
    "    \n",
    "    for row in stock_list: \n",
    "        row.append(code)                 \n",
    "        merge_stock_list_KR_2.append(row)  "
   ]
  },
  {
   "cell_type": "code",
   "execution_count": null,
   "metadata": {},
   "outputs": [
    {
     "name": "stderr",
     "output_type": "stream",
     "text": [
      "100%|██████████| 101/101 [00:13<00:00,  7.36it/s]\n"
     ]
    }
   ],
   "source": [
    "merge_stock_list_KR_3 =[]\n",
    "for code in tqdm(list_kr_3):\n",
    "    stock_list = fdr.DataReader(code, '2007').reset_index().values.tolist() \n",
    "    \n",
    "    for row in stock_list: \n",
    "        row.append(code)                 \n",
    "        merge_stock_list_KR_3.append(row)"
   ]
  },
  {
   "cell_type": "code",
   "execution_count": null,
   "metadata": {},
   "outputs": [
    {
     "name": "stderr",
     "output_type": "stream",
     "text": [
      "100%|██████████| 128/128 [00:08<00:00, 15.21it/s]\n"
     ]
    }
   ],
   "source": [
    "merge_stock_list_KR_4 =[]\n",
    "for code in tqdm(list_kr_4):\n",
    "    stock_list = fdr.DataReader(code, '2015').reset_index().values.tolist() \n",
    "    \n",
    "    for row in stock_list: \n",
    "        row.append(code)                 \n",
    "        merge_stock_list_KR_4.append(row)  "
   ]
  },
  {
   "cell_type": "code",
   "execution_count": null,
   "metadata": {},
   "outputs": [
    {
     "name": "stderr",
     "output_type": "stream",
     "text": []
    },
    {
     "name": "stdout",
     "output_type": "stream",
     "text": [
      "HTTP Error 404: Not Found  - symbol \"BRKB\"not found or invalid periods\n"
     ]
    },
    {
     "name": "stderr",
     "output_type": "stream",
     "text": []
    },
    {
     "name": "stdout",
     "output_type": "stream",
     "text": [
      "HTTP Error 404: Not Found  - symbol \"BFB\"not found or invalid periods\n"
     ]
    },
    {
     "name": "stderr",
     "output_type": "stream",
     "text": [
      "100%|██████████| 503/503 [04:31<00:00,  1.85it/s]\n"
     ]
    }
   ],
   "source": [
    "merge_stock_list_SP =[]\n",
    "for code in tqdm(list_SP):\n",
    "    stock_list = fdr.DataReader(code, '2000').reset_index().values.tolist() \n",
    "    \n",
    "    for row in stock_list: \n",
    "        row.append(code)                 \n",
    "        merge_stock_list_SP.append(row)  "
   ]
  },
  {
   "cell_type": "code",
   "execution_count": null,
   "metadata": {},
   "outputs": [],
   "source": [
    "xs=[]\n",
    "ys=[]\n",
    "for i in range(9):\n",
    "    X = dfxs[i].values.tolist()\n",
    "    y = dfys[i].values.tolist()\n",
    "    xs.append(X)\n",
    "    ys.append(y)\n"
   ]
  },
  {
   "cell_type": "code",
   "execution_count": null,
   "metadata": {},
   "outputs": [],
   "source": [
    "window_size = 10\n",
    "\n",
    "Xx = []\n",
    "Yy =[] \n",
    " \n",
    "for i in range(9):\n",
    "    linex = [] \n",
    "    liney = []\n",
    "    X=xs[i]\n",
    "    Y=ys[i]\n",
    "    b=len(ys[i])\n",
    "    for j in range(b-window_size):\n",
    "         \n",
    "        _X = X[j : j + window_size] \n",
    "        _y = Y[j + window_size]   \n",
    "        linex.append(_X)\n",
    "        liney.append(_y)  \n",
    "    \n",
    "    Xx.append(linex)\n",
    "    Yy.append(liney)\n",
    "Yy"
   ]
  },
  {
   "cell_type": "code",
   "execution_count": null,
   "metadata": {},
   "outputs": [],
   "source": [
    "train_X=[]\n",
    "train_y=[]\n",
    "test_X=[]\n",
    "test_y=[]\n",
    "\n",
    "for i in range(len(list_kr_0)):\n",
    "    train_size = int(len(Yy[i]) * 0.7)\n",
    "    train_X.append(np.array(Xx[i][0 : train_size]))\n",
    "    train_y.append(np.array(Yy[i][0 : train_size]))\n",
    "    test_size = len(Xx[i]) - train_size\n",
    "    test_X.append(np.array(Xx[i][train_size : len(Xx[i])]))\n",
    "    test_y.append(np.array(Yy[i][train_size : len(Yy[i])]))\n",
    "train_y"
   ]
  }
 ],
 "metadata": {
  "kernelspec": {
   "display_name": "Python 3",
   "language": "python",
   "name": "python3"
  },
  "language_info": {
   "codemirror_mode": {
    "name": "ipython",
    "version": 3
   },
   "file_extension": ".py",
   "mimetype": "text/x-python",
   "name": "python",
   "nbconvert_exporter": "python",
   "pygments_lexer": "ipython3",
   "version": "3.11.2"
  },
  "orig_nbformat": 4,
  "vscode": {
   "interpreter": {
    "hash": "f5a5dc7eaf6385803b22ee4c0eae49f795df80ca0ed2632526c2d48e4adae873"
   }
  }
 },
 "nbformat": 4,
 "nbformat_minor": 2
}
