{
 "cells": [
  {
   "cell_type": "code",
   "execution_count": 432,
   "metadata": {},
   "outputs": [],
   "source": [
    "import pandas as pd\n",
    "import FinanceDataReader as fdr\n",
    "df_kos = fdr.StockListing('KOSPI')\n",
    "df_ksq = fdr.StockListing('KOSDAQ')\n",
    "df_etf_kr = fdr.StockListing('ETF/KR')\n",
    "df_SP = fdr.StockListing('SP500')"
   ]
  },
  {
   "cell_type": "code",
   "execution_count": 433,
   "metadata": {},
   "outputs": [],
   "source": [
    "df_kos=df_kos[0:400]\n",
    "df_etf_kr=df_etf_kr[0:100]\n",
    "df_ksq=df_ksq[0:100]\n",
    "df_kr= pd.concat([df_kos,df_ksq])"
   ]
  },
  {
   "cell_type": "code",
   "execution_count": 434,
   "metadata": {},
   "outputs": [],
   "source": [
    "df_kr=df_kr['Code'].to_frame()\n"
   ]
  },
  {
   "cell_type": "code",
   "execution_count": 435,
   "metadata": {},
   "outputs": [],
   "source": [
    "import pandas as pd\n",
    "def make_code(x):\n",
    "    x = str(x)\n",
    "    return '0'*(6-len(x)) + x\n",
    "\n",
    "KR = pd.read_html('http://kind.krx.co.kr/corpgeneral/corpList.do?method=download',header=0)[0]\n",
    "KR['Code'] = KR['종목코드'].apply(make_code)\n",
    "KR_list_1 = KR[KR['상장일'] < '2000-01-01']['Code'].to_frame()\n",
    "KR_list_2 = KR[(KR['상장일'] >= '2000-01-01') & (KR['상장일'] < '2007-01-01')]['Code'].to_frame()\n",
    "KR_list_3 = KR[(KR['상장일'] >= '2007-01-01') & (KR['상장일'] < '2015-06-15')]['Code'].to_frame()\n",
    "KR_list_4 = KR[KR['상장일'] >= '2015-06-15']['Code'].to_frame()\n"
   ]
  },
  {
   "cell_type": "code",
   "execution_count": 436,
   "metadata": {},
   "outputs": [],
   "source": [
    "df_kr_1 = pd.concat([df_kr,KR_list_1])\n",
    "df_kr_2 = pd.concat([df_kr,KR_list_2])\n",
    "df_kr_3 = pd.concat([df_kr,KR_list_3])\n",
    "df_kr_4 = pd.concat([df_kr,KR_list_4])\n"
   ]
  },
  {
   "cell_type": "code",
   "execution_count": 437,
   "metadata": {},
   "outputs": [],
   "source": [
    "df_kr1=df_kr_1[df_kr_1.duplicated()]\n",
    "df_kr2=df_kr_2[df_kr_2.duplicated()]\n",
    "df_kr3=df_kr_3[df_kr_3.duplicated()]\n",
    "df_kr4=df_kr_4[df_kr_4.duplicated()]"
   ]
  },
  {
   "cell_type": "code",
   "execution_count": 438,
   "metadata": {},
   "outputs": [],
   "source": [
    "df_SP = df_SP['Symbol'].to_frame()\n",
    "df_SP.columns = ['Code']"
   ]
  },
  {
   "cell_type": "code",
   "execution_count": 439,
   "metadata": {},
   "outputs": [],
   "source": [
    "df_kr0 = pd.concat([df_kr1,df_kr2,df_kr3,df_kr4])"
   ]
  },
  {
   "cell_type": "code",
   "execution_count": 440,
   "metadata": {},
   "outputs": [],
   "source": [
    "list_kr_0 = df_kr0['Code']\n",
    "list_kr_1 = df_kr1['Code']\n",
    "list_kr_2 = df_kr2['Code']\n",
    "list_kr_3 = df_kr3['Code']\n",
    "list_kr_4= df_kr4['Code']\n",
    "list_SP = df_SP['Code'] \n",
    "\n"
   ]
  },
  {
   "cell_type": "code",
   "execution_count": 441,
   "metadata": {},
   "outputs": [],
   "source": [
    "list_kr_0 = list_kr_0.to_frame()\n",
    "list_kr_1 = list_kr_1.to_frame()\n",
    "list_kr_2 = list_kr_2.to_frame()\n",
    "list_kr_3 = list_kr_3.to_frame()\n",
    "list_kr_4 = list_kr_4.to_frame()\n",
    "list_SP = list_SP.to_frame()"
   ]
  },
  {
   "cell_type": "code",
   "execution_count": 442,
   "metadata": {},
   "outputs": [],
   "source": [
    "kr0 =[]\n",
    "kr1 =[]\n",
    "kr2=[]\n",
    "kr3=[]\n",
    "kr4=[]\n",
    "sp=[]"
   ]
  },
  {
   "cell_type": "code",
   "execution_count": 443,
   "metadata": {},
   "outputs": [],
   "source": [
    "from tqdm import tqdm\n",
    "import time\n",
    "for i in range(len(list_kr_0)):\n",
    "    df=pd.DataFrame\n",
    "    kr0.append(df)\n",
    "\n",
    "for i in range(len(list_kr_1)):\n",
    "    df=pd.DataFrame\n",
    "    kr1.append(df)\n",
    "\n",
    "for i in range(len(list_kr_2)):\n",
    "    df=pd.DataFrame\n",
    "    kr2.append(df) \n",
    "\n",
    "for i in range(len(list_kr_3)):\n",
    "    df=pd.DataFrame\n",
    "    kr3.append(df)  \n",
    "\n",
    "for i in range(len(list_kr_4)):\n",
    "    df=pd.DataFrame\n",
    "    kr4.append(df)     \n",
    "for i in range(len(list_SP)):\n",
    "    df=pd.DataFrame\n",
    "    sp.append(df) "
   ]
  },
  {
   "cell_type": "code",
   "execution_count": 446,
   "metadata": {},
   "outputs": [
    {
     "data": {
      "text/plain": [
       "'001390'"
      ]
     },
     "execution_count": 446,
     "metadata": {},
     "output_type": "execute_result"
    }
   ],
   "source": [
    "list_kr_0.iat[0,0]"
   ]
  },
  {
   "cell_type": "code",
   "execution_count": 447,
   "metadata": {},
   "outputs": [
    {
     "ename": "KeyboardInterrupt",
     "evalue": "",
     "output_type": "error",
     "traceback": [
      "\u001b[1;31m---------------------------------------------------------------------------\u001b[0m",
      "\u001b[1;31mKeyboardInterrupt\u001b[0m                         Traceback (most recent call last)",
      "Cell \u001b[1;32mIn[447], line 2\u001b[0m\n\u001b[0;32m      1\u001b[0m \u001b[39mfor\u001b[39;00m i \u001b[39min\u001b[39;00m \u001b[39mrange\u001b[39m(\u001b[39mlen\u001b[39m(list_kr_0)):\n\u001b[1;32m----> 2\u001b[0m     kr0[i] \u001b[39m=\u001b[39m fdr\u001b[39m.\u001b[39;49mDataReader(list_kr_0\u001b[39m.\u001b[39;49miat[i,\u001b[39m0\u001b[39;49m],\u001b[39m'\u001b[39;49m\u001b[39m1980\u001b[39;49m\u001b[39m'\u001b[39;49m)\n",
      "File \u001b[1;32mc:\\Users\\jhm21\\AppData\\Local\\Programs\\Python\\Python311\\Lib\\site-packages\\FinanceDataReader\\data.py:48\u001b[0m, in \u001b[0;36mDataReader\u001b[1;34m(symbol, start, end, exchange, data_source)\u001b[0m\n\u001b[0;32m     45\u001b[0m \u001b[39m# KRX and Naver Finance\u001b[39;00m\n\u001b[0;32m     46\u001b[0m \u001b[39mif\u001b[39;00m (symbol[:\u001b[39m5\u001b[39m]\u001b[39m.\u001b[39misdigit() \u001b[39mand\u001b[39;00m exchange\u001b[39m==\u001b[39m\u001b[39mNone\u001b[39;00m) \u001b[39mor\u001b[39;00m \\\n\u001b[0;32m     47\u001b[0m    (symbol[:\u001b[39m5\u001b[39m]\u001b[39m.\u001b[39misdigit() \u001b[39mand\u001b[39;00m exchange \u001b[39mand\u001b[39;00m exchange\u001b[39m.\u001b[39mupper() \u001b[39m==\u001b[39m \u001b[39m'\u001b[39m\u001b[39mKRX\u001b[39m\u001b[39m'\u001b[39m):\n\u001b[1;32m---> 48\u001b[0m     \u001b[39mreturn\u001b[39;00m NaverDailyReader(symbol, start, end)\u001b[39m.\u001b[39;49mread()\n\u001b[0;32m     50\u001b[0m \u001b[39m# KRX-DELISTING\u001b[39;00m\n\u001b[0;32m     51\u001b[0m \u001b[39mif\u001b[39;00m (symbol[:\u001b[39m5\u001b[39m]\u001b[39m.\u001b[39misdigit() \u001b[39mand\u001b[39;00m exchange \u001b[39mand\u001b[39;00m exchange\u001b[39m.\u001b[39mupper() \u001b[39min\u001b[39;00m [\u001b[39m'\u001b[39m\u001b[39mKRX-DELISTING\u001b[39m\u001b[39m'\u001b[39m]):\n",
      "File \u001b[1;32mc:\\Users\\jhm21\\AppData\\Local\\Programs\\Python\\Python311\\Lib\\site-packages\\FinanceDataReader\\naver\\data.py:34\u001b[0m, in \u001b[0;36mNaverDailyReader.read\u001b[1;34m(self)\u001b[0m\n\u001b[0;32m     31\u001b[0m \u001b[39mdef\u001b[39;00m \u001b[39mread\u001b[39m(\u001b[39mself\u001b[39m):\n\u001b[0;32m     32\u001b[0m     \u001b[39m# single symbol\u001b[39;00m\n\u001b[0;32m     33\u001b[0m     \u001b[39mif\u001b[39;00m \u001b[39m'\u001b[39m\u001b[39m,\u001b[39m\u001b[39m'\u001b[39m \u001b[39mnot\u001b[39;00m \u001b[39min\u001b[39;00m \u001b[39mself\u001b[39m\u001b[39m.\u001b[39msymbol: \n\u001b[1;32m---> 34\u001b[0m         \u001b[39mreturn\u001b[39;00m _naver_data_reader(\u001b[39mself\u001b[39;49m\u001b[39m.\u001b[39;49msymbol, \u001b[39mself\u001b[39;49m\u001b[39m.\u001b[39;49mstart, \u001b[39mself\u001b[39;49m\u001b[39m.\u001b[39;49mend)\n\u001b[0;32m     36\u001b[0m     \u001b[39m# multiple symbols, merge close price data as columns\u001b[39;00m\n\u001b[0;32m     37\u001b[0m     sym_list \u001b[39m=\u001b[39m [s\u001b[39m.\u001b[39mstrip() \u001b[39mfor\u001b[39;00m s \u001b[39min\u001b[39;00m \u001b[39mself\u001b[39m\u001b[39m.\u001b[39msymbol\u001b[39m.\u001b[39msplit(\u001b[39m'\u001b[39m\u001b[39m,\u001b[39m\u001b[39m'\u001b[39m) \u001b[39mif\u001b[39;00m s]\n",
      "File \u001b[1;32mc:\\Users\\jhm21\\AppData\\Local\\Programs\\Python\\Python311\\Lib\\site-packages\\FinanceDataReader\\naver\\data.py:9\u001b[0m, in \u001b[0;36m_naver_data_reader\u001b[1;34m(symbol, start, end)\u001b[0m\n\u001b[0;32m      7\u001b[0m \u001b[39mdef\u001b[39;00m \u001b[39m_naver_data_reader\u001b[39m(symbol, start, end):\n\u001b[0;32m      8\u001b[0m     url \u001b[39m=\u001b[39m \u001b[39m'\u001b[39m\u001b[39mhttps://fchart.stock.naver.com/sise.nhn?timeframe=day&count=6000&requestType=0&symbol=\u001b[39m\u001b[39m'\u001b[39m\n\u001b[1;32m----> 9\u001b[0m     r \u001b[39m=\u001b[39m requests\u001b[39m.\u001b[39;49mget(url \u001b[39m+\u001b[39;49m symbol)\n\u001b[0;32m     11\u001b[0m     data_list \u001b[39m=\u001b[39m re\u001b[39m.\u001b[39mfindall(\u001b[39m'\u001b[39m\u001b[39m<item data=\u001b[39m\u001b[39m\\\"\u001b[39;00m\u001b[39m(.*?)\u001b[39m\u001b[39m\\\"\u001b[39;00m\u001b[39m />\u001b[39m\u001b[39m'\u001b[39m, r\u001b[39m.\u001b[39mtext, re\u001b[39m.\u001b[39mDOTALL)\n\u001b[0;32m     12\u001b[0m     \u001b[39mif\u001b[39;00m \u001b[39mlen\u001b[39m(data_list) \u001b[39m==\u001b[39m \u001b[39m0\u001b[39m:\n",
      "File \u001b[1;32mc:\\Users\\jhm21\\AppData\\Local\\Programs\\Python\\Python311\\Lib\\site-packages\\requests\\api.py:73\u001b[0m, in \u001b[0;36mget\u001b[1;34m(url, params, **kwargs)\u001b[0m\n\u001b[0;32m     62\u001b[0m \u001b[39mdef\u001b[39;00m \u001b[39mget\u001b[39m(url, params\u001b[39m=\u001b[39m\u001b[39mNone\u001b[39;00m, \u001b[39m*\u001b[39m\u001b[39m*\u001b[39mkwargs):\n\u001b[0;32m     63\u001b[0m \u001b[39m    \u001b[39m\u001b[39mr\u001b[39m\u001b[39m\"\"\"Sends a GET request.\u001b[39;00m\n\u001b[0;32m     64\u001b[0m \n\u001b[0;32m     65\u001b[0m \u001b[39m    :param url: URL for the new :class:`Request` object.\u001b[39;00m\n\u001b[1;32m   (...)\u001b[0m\n\u001b[0;32m     70\u001b[0m \u001b[39m    :rtype: requests.Response\u001b[39;00m\n\u001b[0;32m     71\u001b[0m \u001b[39m    \"\"\"\u001b[39;00m\n\u001b[1;32m---> 73\u001b[0m     \u001b[39mreturn\u001b[39;00m request(\u001b[39m\"\u001b[39;49m\u001b[39mget\u001b[39;49m\u001b[39m\"\u001b[39;49m, url, params\u001b[39m=\u001b[39;49mparams, \u001b[39m*\u001b[39;49m\u001b[39m*\u001b[39;49mkwargs)\n",
      "File \u001b[1;32mc:\\Users\\jhm21\\AppData\\Local\\Programs\\Python\\Python311\\Lib\\site-packages\\requests\\api.py:59\u001b[0m, in \u001b[0;36mrequest\u001b[1;34m(method, url, **kwargs)\u001b[0m\n\u001b[0;32m     55\u001b[0m \u001b[39m# By using the 'with' statement we are sure the session is closed, thus we\u001b[39;00m\n\u001b[0;32m     56\u001b[0m \u001b[39m# avoid leaving sockets open which can trigger a ResourceWarning in some\u001b[39;00m\n\u001b[0;32m     57\u001b[0m \u001b[39m# cases, and look like a memory leak in others.\u001b[39;00m\n\u001b[0;32m     58\u001b[0m \u001b[39mwith\u001b[39;00m sessions\u001b[39m.\u001b[39mSession() \u001b[39mas\u001b[39;00m session:\n\u001b[1;32m---> 59\u001b[0m     \u001b[39mreturn\u001b[39;00m session\u001b[39m.\u001b[39;49mrequest(method\u001b[39m=\u001b[39;49mmethod, url\u001b[39m=\u001b[39;49murl, \u001b[39m*\u001b[39;49m\u001b[39m*\u001b[39;49mkwargs)\n",
      "File \u001b[1;32mc:\\Users\\jhm21\\AppData\\Local\\Programs\\Python\\Python311\\Lib\\site-packages\\requests\\sessions.py:587\u001b[0m, in \u001b[0;36mSession.request\u001b[1;34m(self, method, url, params, data, headers, cookies, files, auth, timeout, allow_redirects, proxies, hooks, stream, verify, cert, json)\u001b[0m\n\u001b[0;32m    582\u001b[0m send_kwargs \u001b[39m=\u001b[39m {\n\u001b[0;32m    583\u001b[0m     \u001b[39m\"\u001b[39m\u001b[39mtimeout\u001b[39m\u001b[39m\"\u001b[39m: timeout,\n\u001b[0;32m    584\u001b[0m     \u001b[39m\"\u001b[39m\u001b[39mallow_redirects\u001b[39m\u001b[39m\"\u001b[39m: allow_redirects,\n\u001b[0;32m    585\u001b[0m }\n\u001b[0;32m    586\u001b[0m send_kwargs\u001b[39m.\u001b[39mupdate(settings)\n\u001b[1;32m--> 587\u001b[0m resp \u001b[39m=\u001b[39m \u001b[39mself\u001b[39;49m\u001b[39m.\u001b[39;49msend(prep, \u001b[39m*\u001b[39;49m\u001b[39m*\u001b[39;49msend_kwargs)\n\u001b[0;32m    589\u001b[0m \u001b[39mreturn\u001b[39;00m resp\n",
      "File \u001b[1;32mc:\\Users\\jhm21\\AppData\\Local\\Programs\\Python\\Python311\\Lib\\site-packages\\requests\\sessions.py:701\u001b[0m, in \u001b[0;36mSession.send\u001b[1;34m(self, request, **kwargs)\u001b[0m\n\u001b[0;32m    698\u001b[0m start \u001b[39m=\u001b[39m preferred_clock()\n\u001b[0;32m    700\u001b[0m \u001b[39m# Send the request\u001b[39;00m\n\u001b[1;32m--> 701\u001b[0m r \u001b[39m=\u001b[39m adapter\u001b[39m.\u001b[39;49msend(request, \u001b[39m*\u001b[39;49m\u001b[39m*\u001b[39;49mkwargs)\n\u001b[0;32m    703\u001b[0m \u001b[39m# Total elapsed time of the request (approximately)\u001b[39;00m\n\u001b[0;32m    704\u001b[0m elapsed \u001b[39m=\u001b[39m preferred_clock() \u001b[39m-\u001b[39m start\n",
      "File \u001b[1;32mc:\\Users\\jhm21\\AppData\\Local\\Programs\\Python\\Python311\\Lib\\site-packages\\requests\\adapters.py:489\u001b[0m, in \u001b[0;36mHTTPAdapter.send\u001b[1;34m(self, request, stream, timeout, verify, cert, proxies)\u001b[0m\n\u001b[0;32m    487\u001b[0m \u001b[39mtry\u001b[39;00m:\n\u001b[0;32m    488\u001b[0m     \u001b[39mif\u001b[39;00m \u001b[39mnot\u001b[39;00m chunked:\n\u001b[1;32m--> 489\u001b[0m         resp \u001b[39m=\u001b[39m conn\u001b[39m.\u001b[39;49murlopen(\n\u001b[0;32m    490\u001b[0m             method\u001b[39m=\u001b[39;49mrequest\u001b[39m.\u001b[39;49mmethod,\n\u001b[0;32m    491\u001b[0m             url\u001b[39m=\u001b[39;49murl,\n\u001b[0;32m    492\u001b[0m             body\u001b[39m=\u001b[39;49mrequest\u001b[39m.\u001b[39;49mbody,\n\u001b[0;32m    493\u001b[0m             headers\u001b[39m=\u001b[39;49mrequest\u001b[39m.\u001b[39;49mheaders,\n\u001b[0;32m    494\u001b[0m             redirect\u001b[39m=\u001b[39;49m\u001b[39mFalse\u001b[39;49;00m,\n\u001b[0;32m    495\u001b[0m             assert_same_host\u001b[39m=\u001b[39;49m\u001b[39mFalse\u001b[39;49;00m,\n\u001b[0;32m    496\u001b[0m             preload_content\u001b[39m=\u001b[39;49m\u001b[39mFalse\u001b[39;49;00m,\n\u001b[0;32m    497\u001b[0m             decode_content\u001b[39m=\u001b[39;49m\u001b[39mFalse\u001b[39;49;00m,\n\u001b[0;32m    498\u001b[0m             retries\u001b[39m=\u001b[39;49m\u001b[39mself\u001b[39;49m\u001b[39m.\u001b[39;49mmax_retries,\n\u001b[0;32m    499\u001b[0m             timeout\u001b[39m=\u001b[39;49mtimeout,\n\u001b[0;32m    500\u001b[0m         )\n\u001b[0;32m    502\u001b[0m     \u001b[39m# Send the request.\u001b[39;00m\n\u001b[0;32m    503\u001b[0m     \u001b[39melse\u001b[39;00m:\n\u001b[0;32m    504\u001b[0m         \u001b[39mif\u001b[39;00m \u001b[39mhasattr\u001b[39m(conn, \u001b[39m\"\u001b[39m\u001b[39mproxy_pool\u001b[39m\u001b[39m\"\u001b[39m):\n",
      "File \u001b[1;32mc:\\Users\\jhm21\\AppData\\Local\\Programs\\Python\\Python311\\Lib\\site-packages\\urllib3\\connectionpool.py:703\u001b[0m, in \u001b[0;36mHTTPConnectionPool.urlopen\u001b[1;34m(self, method, url, body, headers, retries, redirect, assert_same_host, timeout, pool_timeout, release_conn, chunked, body_pos, **response_kw)\u001b[0m\n\u001b[0;32m    700\u001b[0m     \u001b[39mself\u001b[39m\u001b[39m.\u001b[39m_prepare_proxy(conn)\n\u001b[0;32m    702\u001b[0m \u001b[39m# Make the request on the httplib connection object.\u001b[39;00m\n\u001b[1;32m--> 703\u001b[0m httplib_response \u001b[39m=\u001b[39m \u001b[39mself\u001b[39;49m\u001b[39m.\u001b[39;49m_make_request(\n\u001b[0;32m    704\u001b[0m     conn,\n\u001b[0;32m    705\u001b[0m     method,\n\u001b[0;32m    706\u001b[0m     url,\n\u001b[0;32m    707\u001b[0m     timeout\u001b[39m=\u001b[39;49mtimeout_obj,\n\u001b[0;32m    708\u001b[0m     body\u001b[39m=\u001b[39;49mbody,\n\u001b[0;32m    709\u001b[0m     headers\u001b[39m=\u001b[39;49mheaders,\n\u001b[0;32m    710\u001b[0m     chunked\u001b[39m=\u001b[39;49mchunked,\n\u001b[0;32m    711\u001b[0m )\n\u001b[0;32m    713\u001b[0m \u001b[39m# If we're going to release the connection in ``finally:``, then\u001b[39;00m\n\u001b[0;32m    714\u001b[0m \u001b[39m# the response doesn't need to know about the connection. Otherwise\u001b[39;00m\n\u001b[0;32m    715\u001b[0m \u001b[39m# it will also try to release it and we'll have a double-release\u001b[39;00m\n\u001b[0;32m    716\u001b[0m \u001b[39m# mess.\u001b[39;00m\n\u001b[0;32m    717\u001b[0m response_conn \u001b[39m=\u001b[39m conn \u001b[39mif\u001b[39;00m \u001b[39mnot\u001b[39;00m release_conn \u001b[39melse\u001b[39;00m \u001b[39mNone\u001b[39;00m\n",
      "File \u001b[1;32mc:\\Users\\jhm21\\AppData\\Local\\Programs\\Python\\Python311\\Lib\\site-packages\\urllib3\\connectionpool.py:386\u001b[0m, in \u001b[0;36mHTTPConnectionPool._make_request\u001b[1;34m(self, conn, method, url, timeout, chunked, **httplib_request_kw)\u001b[0m\n\u001b[0;32m    384\u001b[0m \u001b[39m# Trigger any extra validation we need to do.\u001b[39;00m\n\u001b[0;32m    385\u001b[0m \u001b[39mtry\u001b[39;00m:\n\u001b[1;32m--> 386\u001b[0m     \u001b[39mself\u001b[39;49m\u001b[39m.\u001b[39;49m_validate_conn(conn)\n\u001b[0;32m    387\u001b[0m \u001b[39mexcept\u001b[39;00m (SocketTimeout, BaseSSLError) \u001b[39mas\u001b[39;00m e:\n\u001b[0;32m    388\u001b[0m     \u001b[39m# Py2 raises this as a BaseSSLError, Py3 raises it as socket timeout.\u001b[39;00m\n\u001b[0;32m    389\u001b[0m     \u001b[39mself\u001b[39m\u001b[39m.\u001b[39m_raise_timeout(err\u001b[39m=\u001b[39me, url\u001b[39m=\u001b[39murl, timeout_value\u001b[39m=\u001b[39mconn\u001b[39m.\u001b[39mtimeout)\n",
      "File \u001b[1;32mc:\\Users\\jhm21\\AppData\\Local\\Programs\\Python\\Python311\\Lib\\site-packages\\urllib3\\connectionpool.py:1042\u001b[0m, in \u001b[0;36mHTTPSConnectionPool._validate_conn\u001b[1;34m(self, conn)\u001b[0m\n\u001b[0;32m   1040\u001b[0m \u001b[39m# Force connect early to allow us to validate the connection.\u001b[39;00m\n\u001b[0;32m   1041\u001b[0m \u001b[39mif\u001b[39;00m \u001b[39mnot\u001b[39;00m \u001b[39mgetattr\u001b[39m(conn, \u001b[39m\"\u001b[39m\u001b[39msock\u001b[39m\u001b[39m\"\u001b[39m, \u001b[39mNone\u001b[39;00m):  \u001b[39m# AppEngine might not have  `.sock`\u001b[39;00m\n\u001b[1;32m-> 1042\u001b[0m     conn\u001b[39m.\u001b[39;49mconnect()\n\u001b[0;32m   1044\u001b[0m \u001b[39mif\u001b[39;00m \u001b[39mnot\u001b[39;00m conn\u001b[39m.\u001b[39mis_verified:\n\u001b[0;32m   1045\u001b[0m     warnings\u001b[39m.\u001b[39mwarn(\n\u001b[0;32m   1046\u001b[0m         (\n\u001b[0;32m   1047\u001b[0m             \u001b[39m\"\u001b[39m\u001b[39mUnverified HTTPS request is being made to host \u001b[39m\u001b[39m'\u001b[39m\u001b[39m%s\u001b[39;00m\u001b[39m'\u001b[39m\u001b[39m. \u001b[39m\u001b[39m\"\u001b[39m\n\u001b[1;32m   (...)\u001b[0m\n\u001b[0;32m   1052\u001b[0m         InsecureRequestWarning,\n\u001b[0;32m   1053\u001b[0m     )\n",
      "File \u001b[1;32mc:\\Users\\jhm21\\AppData\\Local\\Programs\\Python\\Python311\\Lib\\site-packages\\urllib3\\connection.py:358\u001b[0m, in \u001b[0;36mHTTPSConnection.connect\u001b[1;34m(self)\u001b[0m\n\u001b[0;32m    356\u001b[0m \u001b[39mdef\u001b[39;00m \u001b[39mconnect\u001b[39m(\u001b[39mself\u001b[39m):\n\u001b[0;32m    357\u001b[0m     \u001b[39m# Add certificate verification\u001b[39;00m\n\u001b[1;32m--> 358\u001b[0m     \u001b[39mself\u001b[39m\u001b[39m.\u001b[39msock \u001b[39m=\u001b[39m conn \u001b[39m=\u001b[39m \u001b[39mself\u001b[39;49m\u001b[39m.\u001b[39;49m_new_conn()\n\u001b[0;32m    359\u001b[0m     hostname \u001b[39m=\u001b[39m \u001b[39mself\u001b[39m\u001b[39m.\u001b[39mhost\n\u001b[0;32m    360\u001b[0m     tls_in_tls \u001b[39m=\u001b[39m \u001b[39mFalse\u001b[39;00m\n",
      "File \u001b[1;32mc:\\Users\\jhm21\\AppData\\Local\\Programs\\Python\\Python311\\Lib\\site-packages\\urllib3\\connection.py:174\u001b[0m, in \u001b[0;36mHTTPConnection._new_conn\u001b[1;34m(self)\u001b[0m\n\u001b[0;32m    171\u001b[0m     extra_kw[\u001b[39m\"\u001b[39m\u001b[39msocket_options\u001b[39m\u001b[39m\"\u001b[39m] \u001b[39m=\u001b[39m \u001b[39mself\u001b[39m\u001b[39m.\u001b[39msocket_options\n\u001b[0;32m    173\u001b[0m \u001b[39mtry\u001b[39;00m:\n\u001b[1;32m--> 174\u001b[0m     conn \u001b[39m=\u001b[39m connection\u001b[39m.\u001b[39;49mcreate_connection(\n\u001b[0;32m    175\u001b[0m         (\u001b[39mself\u001b[39;49m\u001b[39m.\u001b[39;49m_dns_host, \u001b[39mself\u001b[39;49m\u001b[39m.\u001b[39;49mport), \u001b[39mself\u001b[39;49m\u001b[39m.\u001b[39;49mtimeout, \u001b[39m*\u001b[39;49m\u001b[39m*\u001b[39;49mextra_kw\n\u001b[0;32m    176\u001b[0m     )\n\u001b[0;32m    178\u001b[0m \u001b[39mexcept\u001b[39;00m SocketTimeout:\n\u001b[0;32m    179\u001b[0m     \u001b[39mraise\u001b[39;00m ConnectTimeoutError(\n\u001b[0;32m    180\u001b[0m         \u001b[39mself\u001b[39m,\n\u001b[0;32m    181\u001b[0m         \u001b[39m\"\u001b[39m\u001b[39mConnection to \u001b[39m\u001b[39m%s\u001b[39;00m\u001b[39m timed out. (connect timeout=\u001b[39m\u001b[39m%s\u001b[39;00m\u001b[39m)\u001b[39m\u001b[39m\"\u001b[39m\n\u001b[0;32m    182\u001b[0m         \u001b[39m%\u001b[39m (\u001b[39mself\u001b[39m\u001b[39m.\u001b[39mhost, \u001b[39mself\u001b[39m\u001b[39m.\u001b[39mtimeout),\n\u001b[0;32m    183\u001b[0m     )\n",
      "File \u001b[1;32mc:\\Users\\jhm21\\AppData\\Local\\Programs\\Python\\Python311\\Lib\\site-packages\\urllib3\\util\\connection.py:85\u001b[0m, in \u001b[0;36mcreate_connection\u001b[1;34m(address, timeout, source_address, socket_options)\u001b[0m\n\u001b[0;32m     83\u001b[0m     \u001b[39mif\u001b[39;00m source_address:\n\u001b[0;32m     84\u001b[0m         sock\u001b[39m.\u001b[39mbind(source_address)\n\u001b[1;32m---> 85\u001b[0m     sock\u001b[39m.\u001b[39mconnect(sa)\n\u001b[0;32m     86\u001b[0m     \u001b[39mreturn\u001b[39;00m sock\n\u001b[0;32m     88\u001b[0m \u001b[39mexcept\u001b[39;00m socket\u001b[39m.\u001b[39merror \u001b[39mas\u001b[39;00m e:\n",
      "\u001b[1;31mKeyboardInterrupt\u001b[0m: "
     ]
    }
   ],
   "source": [
    "for i in range(len(list_kr_0)):\n",
    "    kr0[i] = fdr.DataReader(list_kr_0.iat[i,0],'1980')"
   ]
  },
  {
   "cell_type": "code",
   "execution_count": 449,
   "metadata": {},
   "outputs": [
    {
     "ename": "TypeError",
     "evalue": "list indices must be integers or slices, not str",
     "output_type": "error",
     "traceback": [
      "\u001b[1;31m---------------------------------------------------------------------------\u001b[0m",
      "\u001b[1;31mTypeError\u001b[0m                                 Traceback (most recent call last)",
      "Cell \u001b[1;32mIn[449], line 3\u001b[0m\n\u001b[0;32m      1\u001b[0m \u001b[39mfor\u001b[39;00m i \u001b[39min\u001b[39;00m \u001b[39mrange\u001b[39m(\u001b[39mlen\u001b[39m(list_kr_0)):\n\u001b[0;32m      2\u001b[0m     kr0[i] \u001b[39m=\u001b[39m fdr\u001b[39m.\u001b[39mDataReader(list_kr_0\u001b[39m.\u001b[39miat[i,\u001b[39m0\u001b[39m],\u001b[39m'\u001b[39m\u001b[39m1980\u001b[39m\u001b[39m'\u001b[39m)\n\u001b[1;32m----> 3\u001b[0m     kr0[\u001b[39m'\u001b[39;49m\u001b[39mCode\u001b[39;49m\u001b[39m'\u001b[39;49m] \u001b[39m=\u001b[39mlist_kr_0\u001b[39m.\u001b[39miat[i,\u001b[39m0\u001b[39m]\n\u001b[0;32m      5\u001b[0m \u001b[39mfor\u001b[39;00m i \u001b[39min\u001b[39;00m \u001b[39mrange\u001b[39m(\u001b[39mlen\u001b[39m(list_kr_1)):\n\u001b[0;32m      6\u001b[0m     kr1[i] \u001b[39m=\u001b[39m fdr\u001b[39m.\u001b[39mDataReader(list_kr_1\u001b[39m.\u001b[39miat[i,\u001b[39m0\u001b[39m],\u001b[39m'\u001b[39m\u001b[39m1980\u001b[39m\u001b[39m'\u001b[39m)\n",
      "\u001b[1;31mTypeError\u001b[0m: list indices must be integers or slices, not str"
     ]
    }
   ],
   "source": [
    "for i in range(len(list_kr_0)):\n",
    "    kr0[i] = fdr.DataReader(list_kr_0.iat[i,0],'1980')\n",
    "    kr0['Code'] =list_kr_0.iat[i,0]\n",
    "\n",
    "for i in range(len(list_kr_1)):\n",
    "    kr1[i] = fdr.DataReader(list_kr_1.iat[i,0],'1980')\n",
    "\n",
    "\n",
    "for i in range(len(list_kr_2)):\n",
    "    kr2[i] = fdr.DataReader(list_kr_2.iat[i,0],'2000')\n",
    "\n",
    "for i in range(len(list_kr_3)):\n",
    "    kr3[i] = fdr.DataReader(list_kr_3.iat[i,0],'2007')\n",
    "    \n",
    "for i in range(len(list_kr_4)):\n",
    "    kr4[i] = fdr.DataReader(list_kr_4.iat[i,0],'2015-6-15')\n",
    "    \n",
    "for i in range(len(list_SP)):\n",
    "    sp[i] = fdr.DataReader(list_SP.iat[i,0],'2000')"
   ]
  },
  {
   "cell_type": "code",
   "execution_count": 431,
   "metadata": {},
   "outputs": [
    {
     "data": {
      "text/html": [
       "<div>\n",
       "<style scoped>\n",
       "    .dataframe tbody tr th:only-of-type {\n",
       "        vertical-align: middle;\n",
       "    }\n",
       "\n",
       "    .dataframe tbody tr th {\n",
       "        vertical-align: top;\n",
       "    }\n",
       "\n",
       "    .dataframe thead th {\n",
       "        text-align: right;\n",
       "    }\n",
       "</style>\n",
       "<table border=\"1\" class=\"dataframe\">\n",
       "  <thead>\n",
       "    <tr style=\"text-align: right;\">\n",
       "      <th></th>\n",
       "      <th>Open</th>\n",
       "      <th>High</th>\n",
       "      <th>Low</th>\n",
       "      <th>Close</th>\n",
       "      <th>Volume</th>\n",
       "      <th>Change</th>\n",
       "    </tr>\n",
       "    <tr>\n",
       "      <th>Date</th>\n",
       "      <th></th>\n",
       "      <th></th>\n",
       "      <th></th>\n",
       "      <th></th>\n",
       "      <th></th>\n",
       "      <th></th>\n",
       "    </tr>\n",
       "  </thead>\n",
       "  <tbody>\n",
       "    <tr>\n",
       "      <th>1998-11-10</th>\n",
       "      <td>6753</td>\n",
       "      <td>6894</td>\n",
       "      <td>6378</td>\n",
       "      <td>6636</td>\n",
       "      <td>179190</td>\n",
       "      <td>NaN</td>\n",
       "    </tr>\n",
       "    <tr>\n",
       "      <th>1998-11-11</th>\n",
       "      <td>6331</td>\n",
       "      <td>6613</td>\n",
       "      <td>6331</td>\n",
       "      <td>6472</td>\n",
       "      <td>109030</td>\n",
       "      <td>-0.024714</td>\n",
       "    </tr>\n",
       "    <tr>\n",
       "      <th>1998-11-12</th>\n",
       "      <td>6378</td>\n",
       "      <td>6730</td>\n",
       "      <td>6167</td>\n",
       "      <td>6495</td>\n",
       "      <td>194230</td>\n",
       "      <td>0.003554</td>\n",
       "    </tr>\n",
       "    <tr>\n",
       "      <th>1998-11-13</th>\n",
       "      <td>6566</td>\n",
       "      <td>6683</td>\n",
       "      <td>6120</td>\n",
       "      <td>6331</td>\n",
       "      <td>114500</td>\n",
       "      <td>-0.025250</td>\n",
       "    </tr>\n",
       "    <tr>\n",
       "      <th>1998-11-14</th>\n",
       "      <td>6800</td>\n",
       "      <td>6800</td>\n",
       "      <td>6378</td>\n",
       "      <td>6659</td>\n",
       "      <td>144170</td>\n",
       "      <td>0.051809</td>\n",
       "    </tr>\n",
       "    <tr>\n",
       "      <th>...</th>\n",
       "      <td>...</td>\n",
       "      <td>...</td>\n",
       "      <td>...</td>\n",
       "      <td>...</td>\n",
       "      <td>...</td>\n",
       "      <td>...</td>\n",
       "    </tr>\n",
       "    <tr>\n",
       "      <th>2023-02-15</th>\n",
       "      <td>93500</td>\n",
       "      <td>94300</td>\n",
       "      <td>92600</td>\n",
       "      <td>93000</td>\n",
       "      <td>220569</td>\n",
       "      <td>-0.004283</td>\n",
       "    </tr>\n",
       "    <tr>\n",
       "      <th>2023-02-16</th>\n",
       "      <td>93900</td>\n",
       "      <td>95400</td>\n",
       "      <td>93800</td>\n",
       "      <td>95400</td>\n",
       "      <td>276963</td>\n",
       "      <td>0.025806</td>\n",
       "    </tr>\n",
       "    <tr>\n",
       "      <th>2023-02-17</th>\n",
       "      <td>94100</td>\n",
       "      <td>96200</td>\n",
       "      <td>94100</td>\n",
       "      <td>94400</td>\n",
       "      <td>204844</td>\n",
       "      <td>-0.010482</td>\n",
       "    </tr>\n",
       "    <tr>\n",
       "      <th>2023-02-20</th>\n",
       "      <td>94900</td>\n",
       "      <td>95200</td>\n",
       "      <td>92500</td>\n",
       "      <td>95100</td>\n",
       "      <td>187045</td>\n",
       "      <td>0.007415</td>\n",
       "    </tr>\n",
       "    <tr>\n",
       "      <th>2023-02-21</th>\n",
       "      <td>95600</td>\n",
       "      <td>97500</td>\n",
       "      <td>95300</td>\n",
       "      <td>97300</td>\n",
       "      <td>294744</td>\n",
       "      <td>0.023134</td>\n",
       "    </tr>\n",
       "  </tbody>\n",
       "</table>\n",
       "<p>6000 rows × 6 columns</p>\n",
       "</div>"
      ],
      "text/plain": [
       "             Open   High    Low  Close  Volume    Change\n",
       "Date                                                    \n",
       "1998-11-10   6753   6894   6378   6636  179190       NaN\n",
       "1998-11-11   6331   6613   6331   6472  109030 -0.024714\n",
       "1998-11-12   6378   6730   6167   6495  194230  0.003554\n",
       "1998-11-13   6566   6683   6120   6331  114500 -0.025250\n",
       "1998-11-14   6800   6800   6378   6659  144170  0.051809\n",
       "...           ...    ...    ...    ...     ...       ...\n",
       "2023-02-15  93500  94300  92600  93000  220569 -0.004283\n",
       "2023-02-16  93900  95400  93800  95400  276963  0.025806\n",
       "2023-02-17  94100  96200  94100  94400  204844 -0.010482\n",
       "2023-02-20  94900  95200  92500  95100  187045  0.007415\n",
       "2023-02-21  95600  97500  95300  97300  294744  0.023134\n",
       "\n",
       "[6000 rows x 6 columns]"
      ]
     },
     "execution_count": 431,
     "metadata": {},
     "output_type": "execute_result"
    }
   ],
   "source": [
    "kr0[1]"
   ]
  },
  {
   "cell_type": "code",
   "execution_count": 330,
   "metadata": {},
   "outputs": [
    {
     "name": "stderr",
     "output_type": "stream",
     "text": [
      "100%|██████████| 187/187 [00:22<00:00,  8.24it/s]\n"
     ]
    }
   ],
   "source": [
    "for code in tqdm(list_kr_1):\n",
    "    stock_list = fdr.DataReader(code, '1980').reset_index().values.tolist() \n",
    "    \n",
    "    for row in stock_list: \n",
    "        row.append(code)                 \n",
    "        merge_stock_list_KR_1.append(row)  "
   ]
  },
  {
   "cell_type": "code",
   "execution_count": 331,
   "metadata": {},
   "outputs": [
    {
     "name": "stderr",
     "output_type": "stream",
     "text": [
      "100%|██████████| 71/71 [00:08<00:00,  8.64it/s]\n"
     ]
    }
   ],
   "source": [
    "merge_stock_list_KR_2 =[]\n",
    "for code in tqdm(list_kr_2):\n",
    "    stock_list = fdr.DataReader(code, '2000').reset_index().values.tolist() \n",
    "    \n",
    "    for row in stock_list: \n",
    "        row.append(code)                 \n",
    "        merge_stock_list_KR_2.append(row)  "
   ]
  },
  {
   "cell_type": "code",
   "execution_count": 332,
   "metadata": {},
   "outputs": [
    {
     "name": "stderr",
     "output_type": "stream",
     "text": [
      "100%|██████████| 101/101 [00:13<00:00,  7.36it/s]\n"
     ]
    }
   ],
   "source": [
    "merge_stock_list_KR_3 =[]\n",
    "for code in tqdm(list_kr_3):\n",
    "    stock_list = fdr.DataReader(code, '2007').reset_index().values.tolist() \n",
    "    \n",
    "    for row in stock_list: \n",
    "        row.append(code)                 \n",
    "        merge_stock_list_KR_3.append(row)"
   ]
  },
  {
   "cell_type": "code",
   "execution_count": 333,
   "metadata": {},
   "outputs": [
    {
     "name": "stderr",
     "output_type": "stream",
     "text": [
      "100%|██████████| 128/128 [00:08<00:00, 15.21it/s]\n"
     ]
    }
   ],
   "source": [
    "merge_stock_list_KR_4 =[]\n",
    "for code in tqdm(list_kr_4):\n",
    "    stock_list = fdr.DataReader(code, '2015').reset_index().values.tolist() \n",
    "    \n",
    "    for row in stock_list: \n",
    "        row.append(code)                 \n",
    "        merge_stock_list_KR_4.append(row)  "
   ]
  },
  {
   "cell_type": "code",
   "execution_count": 334,
   "metadata": {},
   "outputs": [
    {
     "name": "stderr",
     "output_type": "stream",
     "text": []
    },
    {
     "name": "stdout",
     "output_type": "stream",
     "text": [
      "HTTP Error 404: Not Found  - symbol \"BRKB\"not found or invalid periods\n"
     ]
    },
    {
     "name": "stderr",
     "output_type": "stream",
     "text": []
    },
    {
     "name": "stdout",
     "output_type": "stream",
     "text": [
      "HTTP Error 404: Not Found  - symbol \"BFB\"not found or invalid periods\n"
     ]
    },
    {
     "name": "stderr",
     "output_type": "stream",
     "text": [
      "100%|██████████| 503/503 [04:31<00:00,  1.85it/s]\n"
     ]
    }
   ],
   "source": [
    "merge_stock_list_SP =[]\n",
    "for code in tqdm(list_SP):\n",
    "    stock_list = fdr.DataReader(code, '2000').reset_index().values.tolist() \n",
    "    \n",
    "    for row in stock_list: \n",
    "        row.append(code)                 \n",
    "        merge_stock_list_SP.append(row)  "
   ]
  },
  {
   "cell_type": "code",
   "execution_count": null,
   "metadata": {},
   "outputs": [],
   "source": [
    "train_X=[]\n",
    "train_y=[]\n",
    "test_X=[]\n",
    "test_y=[]\n",
    "\n",
    "for i in range(len(list_kr_0)):\n",
    "    train_size = int(len(Yy[i]) * 0.7)\n",
    "    train_X.append(np.array(Xx[i][0 : train_size]))\n",
    "    train_y.append(np.array(Yy[i][0 : train_size]))\n",
    "    test_size = len(Xx[i]) - train_size\n",
    "    test_X.append(np.array(Xx[i][train_size : len(Xx[i])]))\n",
    "    test_y.append(np.array(Yy[i][train_size : len(Yy[i])]))\n",
    "train_y"
   ]
  }
 ],
 "metadata": {
  "kernelspec": {
   "display_name": "Python 3",
   "language": "python",
   "name": "python3"
  },
  "language_info": {
   "codemirror_mode": {
    "name": "ipython",
    "version": 3
   },
   "file_extension": ".py",
   "mimetype": "text/x-python",
   "name": "python",
   "nbconvert_exporter": "python",
   "pygments_lexer": "ipython3",
   "version": "3.11.2"
  },
  "orig_nbformat": 4,
  "vscode": {
   "interpreter": {
    "hash": "f5a5dc7eaf6385803b22ee4c0eae49f795df80ca0ed2632526c2d48e4adae873"
   }
  }
 },
 "nbformat": 4,
 "nbformat_minor": 2
}
